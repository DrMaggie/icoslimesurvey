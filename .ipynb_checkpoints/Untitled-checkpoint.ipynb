{
 "cells": [
  {
   "cell_type": "code",
   "execution_count": null,
   "metadata": {},
   "outputs": [],
   "source": [
    "from limesurveyrc2api.limesurvey import LimeSurvey\n",
    "\n",
    "url = \"http://localhost/limesurvey/index.php/admin/remotecontrol\"\n",
    "username = \"limey\"\n",
    "password = \"EnvriPlus\"\n",
    "\n",
    "# Open a session.\n",
    "api = LimeSurvey(url=url, username=username)\n",
    "api.open(password=password)\n",
    "\n",
    "# Get a list of surveys the admin can see, and print their IDs.\n",
    "result = api.survey.list_surveys()\n",
    "for survey in result:\n",
    "    print(survey.get(\"sid\"))\n",
    "\n",
    "# Close the session.\n",
    "api.close()"
   ]
  }
 ],
 "metadata": {
  "kernelspec": {
   "display_name": "Python 3",
   "language": "python",
   "name": "python3"
  },
  "language_info": {
   "codemirror_mode": {
    "name": "ipython",
    "version": 3
   },
   "file_extension": ".py",
   "mimetype": "text/x-python",
   "name": "python",
   "nbconvert_exporter": "python",
   "pygments_lexer": "ipython3",
   "version": "3.7.3"
  }
 },
 "nbformat": 4,
 "nbformat_minor": 2
}
